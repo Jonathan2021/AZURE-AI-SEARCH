{
 "cells": [
  {
   "cell_type": "code",
   "execution_count": 1,
   "metadata": {},
   "outputs": [],
   "source": [
    "!python -m venv azureaisearch_env"
   ]
  },
  {
   "cell_type": "code",
   "execution_count": 1,
   "metadata": {},
   "outputs": [
    {
     "name": "stdout",
     "output_type": "stream",
     "text": [
      "Collecting pypdf==3.5.0 (from -r requirements.txt (line 1))\n",
      "  Using cached pypdf-3.5.0-py3-none-any.whl (244 kB)\n",
      "Collecting azure-identity==1.13.0b4 (from -r requirements.txt (line 2))\n",
      "  Using cached azure_identity-1.13.0b4-py3-none-any.whl (144 kB)\n",
      "Collecting azure-search-documents==11.4.0b3 (from -r requirements.txt (line 3))\n",
      "  Using cached azure_search_documents-11.4.0b3-py3-none-any.whl (296 kB)\n",
      "Collecting azure-ai-formrecognizer==3.2.1 (from -r requirements.txt (line 4))\n",
      "  Using cached azure_ai_formrecognizer-3.2.1-py3-none-any.whl (228 kB)\n",
      "Collecting azure-storage-blob==12.14.1 (from -r requirements.txt (line 5))\n",
      "  Using cached azure_storage_blob-12.14.1-py3-none-any.whl (383 kB)\n",
      "Collecting azure-core<2.0.0,>=1.11.0 (from azure-identity==1.13.0b4->-r requirements.txt (line 2))\n",
      "  Obtaining dependency information for azure-core<2.0.0,>=1.11.0 from https://files.pythonhosted.org/packages/9c/f8/1cf23a75cb8c2755c539ac967f3a7f607887c4979d073808134803720f0f/azure_core-1.29.5-py3-none-any.whl.metadata\n",
      "  Using cached azure_core-1.29.5-py3-none-any.whl.metadata (36 kB)\n",
      "Collecting cryptography>=2.5 (from azure-identity==1.13.0b4->-r requirements.txt (line 2))\n",
      "  Obtaining dependency information for cryptography>=2.5 from https://files.pythonhosted.org/packages/86/35/f03a42444866ef7f23134812a05012dcb509418214fb78ec848f28cd14b8/cryptography-41.0.5-cp37-abi3-win_amd64.whl.metadata\n",
      "  Using cached cryptography-41.0.5-cp37-abi3-win_amd64.whl.metadata (5.3 kB)\n",
      "Collecting msal<2.0.0,>=1.20.0 (from azure-identity==1.13.0b4->-r requirements.txt (line 2))\n",
      "  Obtaining dependency information for msal<2.0.0,>=1.20.0 from https://files.pythonhosted.org/packages/2a/45/d80a35ce701c1b3b53ab57a585813636acba39f3a8ed87ac01e0f1dfa3c1/msal-1.25.0-py2.py3-none-any.whl.metadata\n",
      "  Using cached msal-1.25.0-py2.py3-none-any.whl.metadata (11 kB)\n",
      "Collecting msal-extensions<2.0.0,>=0.3.0 (from azure-identity==1.13.0b4->-r requirements.txt (line 2))\n",
      "  Using cached msal_extensions-1.0.0-py2.py3-none-any.whl (19 kB)\n",
      "Requirement already satisfied: six>=1.12.0 in c:\\ambarish\\azure-ai-search\\azureaisearch_env\\lib\\site-packages (from azure-identity==1.13.0b4->-r requirements.txt (line 2)) (1.16.0)\n",
      "Collecting azure-common~=1.1 (from azure-search-documents==11.4.0b3->-r requirements.txt (line 3))\n",
      "  Using cached azure_common-1.1.28-py2.py3-none-any.whl (14 kB)\n",
      "Collecting isodate>=0.6.0 (from azure-search-documents==11.4.0b3->-r requirements.txt (line 3))\n",
      "  Using cached isodate-0.6.1-py2.py3-none-any.whl (41 kB)\n",
      "Collecting msrest>=0.6.21 (from azure-ai-formrecognizer==3.2.1->-r requirements.txt (line 4))\n",
      "  Using cached msrest-0.7.1-py3-none-any.whl (85 kB)\n",
      "Collecting typing-extensions>=4.0.1 (from azure-ai-formrecognizer==3.2.1->-r requirements.txt (line 4))\n",
      "  Obtaining dependency information for typing-extensions>=4.0.1 from https://files.pythonhosted.org/packages/24/21/7d397a4b7934ff4028987914ac1044d3b7d52712f30e2ac7a2ae5bc86dd0/typing_extensions-4.8.0-py3-none-any.whl.metadata\n",
      "  Using cached typing_extensions-4.8.0-py3-none-any.whl.metadata (3.0 kB)\n",
      "Collecting requests>=2.18.4 (from azure-core<2.0.0,>=1.11.0->azure-identity==1.13.0b4->-r requirements.txt (line 2))\n",
      "  Obtaining dependency information for requests>=2.18.4 from https://files.pythonhosted.org/packages/70/8e/0e2d847013cb52cd35b38c009bb167a1a26b2ce6cd6965bf26b47bc0bf44/requests-2.31.0-py3-none-any.whl.metadata\n",
      "  Using cached requests-2.31.0-py3-none-any.whl.metadata (4.6 kB)\n",
      "Collecting cffi>=1.12 (from cryptography>=2.5->azure-identity==1.13.0b4->-r requirements.txt (line 2))\n",
      "  Obtaining dependency information for cffi>=1.12 from https://files.pythonhosted.org/packages/e9/63/e285470a4880a4f36edabe4810057bd4b562c6ddcc165eacf9c3c7210b40/cffi-1.16.0-cp312-cp312-win_amd64.whl.metadata\n",
      "  Using cached cffi-1.16.0-cp312-cp312-win_amd64.whl.metadata (1.5 kB)\n",
      "Collecting PyJWT[crypto]<3,>=1.0.0 (from msal<2.0.0,>=1.20.0->azure-identity==1.13.0b4->-r requirements.txt (line 2))\n",
      "  Obtaining dependency information for PyJWT[crypto]<3,>=1.0.0 from https://files.pythonhosted.org/packages/2b/4f/e04a8067c7c96c364cef7ef73906504e2f40d690811c021e1a1901473a19/PyJWT-2.8.0-py3-none-any.whl.metadata\n",
      "  Using cached PyJWT-2.8.0-py3-none-any.whl.metadata (4.2 kB)\n",
      "Collecting portalocker<3,>=1.6 (from msal-extensions<2.0.0,>=0.3.0->azure-identity==1.13.0b4->-r requirements.txt (line 2))\n",
      "  Obtaining dependency information for portalocker<3,>=1.6 from https://files.pythonhosted.org/packages/17/9e/87671efcca80ba6203811540ed1f9c0462c1609d2281d7b7f53cef05da3d/portalocker-2.8.2-py3-none-any.whl.metadata\n",
      "  Using cached portalocker-2.8.2-py3-none-any.whl.metadata (8.5 kB)\n",
      "Collecting certifi>=2017.4.17 (from msrest>=0.6.21->azure-ai-formrecognizer==3.2.1->-r requirements.txt (line 4))\n",
      "  Obtaining dependency information for certifi>=2017.4.17 from https://files.pythonhosted.org/packages/64/62/428ef076be88fa93716b576e4a01f919d25968913e817077a386fcbe4f42/certifi-2023.11.17-py3-none-any.whl.metadata\n",
      "  Using cached certifi-2023.11.17-py3-none-any.whl.metadata (2.2 kB)\n",
      "Collecting requests-oauthlib>=0.5.0 (from msrest>=0.6.21->azure-ai-formrecognizer==3.2.1->-r requirements.txt (line 4))\n",
      "  Using cached requests_oauthlib-1.3.1-py2.py3-none-any.whl (23 kB)\n",
      "Collecting pycparser (from cffi>=1.12->cryptography>=2.5->azure-identity==1.13.0b4->-r requirements.txt (line 2))\n",
      "  Using cached pycparser-2.21-py2.py3-none-any.whl (118 kB)\n",
      "Requirement already satisfied: pywin32>=226 in c:\\ambarish\\azure-ai-search\\azureaisearch_env\\lib\\site-packages (from portalocker<3,>=1.6->msal-extensions<2.0.0,>=0.3.0->azure-identity==1.13.0b4->-r requirements.txt (line 2)) (306)\n",
      "Collecting charset-normalizer<4,>=2 (from requests>=2.18.4->azure-core<2.0.0,>=1.11.0->azure-identity==1.13.0b4->-r requirements.txt (line 2))\n",
      "  Obtaining dependency information for charset-normalizer<4,>=2 from https://files.pythonhosted.org/packages/b6/7c/8debebb4f90174074b827c63242c23851bdf00a532489fba57fef3416e40/charset_normalizer-3.3.2-cp312-cp312-win_amd64.whl.metadata\n",
      "  Using cached charset_normalizer-3.3.2-cp312-cp312-win_amd64.whl.metadata (34 kB)\n",
      "Collecting idna<4,>=2.5 (from requests>=2.18.4->azure-core<2.0.0,>=1.11.0->azure-identity==1.13.0b4->-r requirements.txt (line 2))\n",
      "  Using cached idna-3.4-py3-none-any.whl (61 kB)\n",
      "Collecting urllib3<3,>=1.21.1 (from requests>=2.18.4->azure-core<2.0.0,>=1.11.0->azure-identity==1.13.0b4->-r requirements.txt (line 2))\n",
      "  Obtaining dependency information for urllib3<3,>=1.21.1 from https://files.pythonhosted.org/packages/96/94/c31f58c7a7f470d5665935262ebd7455c7e4c7782eb525658d3dbf4b9403/urllib3-2.1.0-py3-none-any.whl.metadata\n",
      "  Using cached urllib3-2.1.0-py3-none-any.whl.metadata (6.4 kB)\n",
      "Collecting oauthlib>=3.0.0 (from requests-oauthlib>=0.5.0->msrest>=0.6.21->azure-ai-formrecognizer==3.2.1->-r requirements.txt (line 4))\n",
      "  Using cached oauthlib-3.2.2-py3-none-any.whl (151 kB)\n",
      "Using cached azure_core-1.29.5-py3-none-any.whl (192 kB)\n",
      "Using cached cryptography-41.0.5-cp37-abi3-win_amd64.whl (2.7 MB)\n",
      "Using cached msal-1.25.0-py2.py3-none-any.whl (97 kB)\n",
      "Using cached typing_extensions-4.8.0-py3-none-any.whl (31 kB)\n",
      "Using cached certifi-2023.11.17-py3-none-any.whl (162 kB)\n",
      "Using cached cffi-1.16.0-cp312-cp312-win_amd64.whl (181 kB)\n",
      "Using cached portalocker-2.8.2-py3-none-any.whl (17 kB)\n",
      "Using cached requests-2.31.0-py3-none-any.whl (62 kB)\n",
      "Using cached charset_normalizer-3.3.2-cp312-cp312-win_amd64.whl (100 kB)\n",
      "Using cached urllib3-2.1.0-py3-none-any.whl (104 kB)\n",
      "Using cached PyJWT-2.8.0-py3-none-any.whl (22 kB)\n",
      "Installing collected packages: azure-common, urllib3, typing-extensions, pypdf, PyJWT, pycparser, portalocker, oauthlib, isodate, idna, charset-normalizer, certifi, requests, cffi, requests-oauthlib, cryptography, azure-core, msrest, azure-search-documents, msal, azure-storage-blob, azure-ai-formrecognizer, msal-extensions, azure-identity\n",
      "Successfully installed PyJWT-2.8.0 azure-ai-formrecognizer-3.2.1 azure-common-1.1.28 azure-core-1.29.5 azure-identity-1.13.0b4 azure-search-documents-11.4.0b3 azure-storage-blob-12.14.1 certifi-2023.11.17 cffi-1.16.0 charset-normalizer-3.3.2 cryptography-41.0.5 idna-3.4 isodate-0.6.1 msal-1.25.0 msal-extensions-1.0.0 msrest-0.7.1 oauthlib-3.2.2 portalocker-2.8.2 pycparser-2.21 pypdf-3.5.0 requests-2.31.0 requests-oauthlib-1.3.1 typing-extensions-4.8.0 urllib3-2.1.0\n",
      "Note: you may need to restart the kernel to use updated packages.\n"
     ]
    },
    {
     "name": "stderr",
     "output_type": "stream",
     "text": [
      "\n",
      "[notice] A new release of pip is available: 23.2.1 -> 23.3.1\n",
      "[notice] To update, run: c:\\Ambarish\\AZURE-AI-SEARCH\\azureaisearch_env\\Scripts\\python.exe -m pip install --upgrade pip\n"
     ]
    }
   ],
   "source": [
    "%pip install -r requirements.txt"
   ]
  },
  {
   "cell_type": "code",
   "execution_count": null,
   "metadata": {},
   "outputs": [],
   "source": []
  }
 ],
 "metadata": {
  "kernelspec": {
   "display_name": "Python 3",
   "language": "python",
   "name": "python3"
  },
  "language_info": {
   "codemirror_mode": {
    "name": "ipython",
    "version": 3
   },
   "file_extension": ".py",
   "mimetype": "text/x-python",
   "name": "python",
   "nbconvert_exporter": "python",
   "pygments_lexer": "ipython3",
   "version": "3.12.0"
  }
 },
 "nbformat": 4,
 "nbformat_minor": 2
}
